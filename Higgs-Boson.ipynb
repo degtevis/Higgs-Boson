{
 "cells": [
  {
   "cell_type": "markdown",
   "metadata": {},
   "source": [
    "# Решение контеста [Higgs Boson Machine Learning Challenge](https://www.kaggle.com/c/higgs-boson)"
   ]
  },
  {
   "cell_type": "markdown",
   "metadata": {},
   "source": [
    "Автор: Дёгтев Иван\n",
    "\n",
    "Частично используется код из [Python starting kit](http://higgsml.lal.in2p3.fr/starting-kit/)"
   ]
  },
  {
   "cell_type": "markdown",
   "metadata": {},
   "source": [
    "## Введение"
   ]
  },
  {
   "cell_type": "markdown",
   "metadata": {},
   "source": [
    "Описание конкурса изложено по [этой ссылке](https://higgsml.lal.in2p3.fr/documentation/). Общий смысл задачи: классификация событий на два класса: сигнал и фон. Событие описывается двумя видами параметров: первычными и производными. Первые параметры в каком-то смысле являются прямыми измеряемыми величинами эксперимента. Вторая группа состоит из величин, которые считаются из значений первой группы и которые согласно теории должны играть ключевую роль для выявления конкретного сигнала.\n",
    "\n",
    "Для начала опишем способ решения этой задачи без использования машинного обучения. Общий формализм можно, например, найти в статье [\"Asymptotic formulae for likelihood-based tests of new physics\"](https://arxiv.org/abs/1007.1727). Для начала выбирается нулевая гипотеза (шум), по которой (с помощью Монте-Карло или теоретических методов) фиксируется распределение экспериментально наблюдаемых величин. Затем выбирается альтернатива (шум плюс сигнал) и также находится распределения величин. После этого с помощью известных статистических критериев (Неймана-Пирсона или максимума правдоподобия в общем случае) находится уровень значимости разных событий. \n",
    "\n",
    "Проблема этого метода возникает при тестировании гипотез. Дело в том, что сигнальные события происходят очень редко и необходима огромная выборка, чтобы протестировать гипотезу с достаточным уровнем значимости. При этом большую часть выборки будут составлять фоновые события. Подсчёт же критерия как правило требует оптимизации величины (например, максимизации правдоподобия) с учетом знания, какие события являются фоновыми, а какие нет. Поэтому без методов машинного обучения (или их элементарных аналогов) проверка критерия заставила бы делать огромный подсчёт, перебирающий все комбинации предположений, какие события являются фоновыми, а какие сигнальными. \n",
    "\n",
    "Для машинного обучения же эта задача выглядит довольно стандартной задачей классификации. Кроме того, задача не требует жестких рамок по качеству. Мы, например, не могли бы использовать обычные методы машинного обучения для предсказания уровня статистической значимости, поскольку эти методы, как правило, не имеют за собой доказанных теоретических гарантий. Вместо этого, машинное обучения пытается улучшить качество какой-то метрики (в нашем случае AMS). Машинное обучение успешно справляется с такой задачей и далее будет показано, как это происходит."
   ]
  },
  {
   "cell_type": "markdown",
   "metadata": {},
   "source": [
    "## Анализ"
   ]
  },
  {
   "cell_type": "markdown",
   "metadata": {},
   "source": [
    "### Описание моделей"
   ]
  },
  {
   "cell_type": "markdown",
   "metadata": {},
   "source": [
    "Я выбрал следующие методы: случайный лес и градиентный бустинг. Первый даёт очень хороший результат после совершения очень малых усилий. Поэтому на нём удобно ставить для себя какой-то референсный балл. Второй метод был выбран, как один из самых продвинутых методов неглубокого обучения, за счёт которого в общем-то и был установлен Benchmark в 3.4, который мы будем пытаться улучшить. Кроме того второе место на конкурсе было достигнуто за счёт бустинга (хотя и более сложного), а первое и третье с помощью нейронных сетей, которые в данном анализе я использовать не буду."
   ]
  },
  {
   "cell_type": "markdown",
   "metadata": {},
   "source": [
    "### Оптимизация AMS"
   ]
  },
  {
   "cell_type": "markdown",
   "metadata": {},
   "source": [
    "Оптимизация AMS будет проводиться в два этапа. Для этого вся выборка, для которой известны ответы, будет поделена на 90% тренировочной выборки и 10% валидационной выборки. \n",
    "\n",
    "Первый этап оптимизации будет применяться для выбора параметров модели (таких, как глубина дерева). Для этого будет использоваться подход, описанный командой, занявшей 9-ое место на конкурсе [ссылка](http://www.jmlr.org/proceedings/papers/v42/diaz14.pdf). Суть подхода в попытке максимизировать взвешенный AUC на кросс-валидации. Вообще говоря, данный подход является во многом эврестическим. ([другой способ](www.jmlr.org/proceedings/papers/v42/cowa14.pdf) - максимизация взвешенной ошибки, но он не сильно меняет результат). \n",
    "\n",
    "После выбора параметров, модель будет обучена на всей тренировочной выборке и затем начнётся второй этап оптимизации. Он состоит в выборе порога. Для этого для всей валидационной выборки будет предсказана вероятность принадлежности к классу \"сигнала\". После этого будет подобран порог вероятности, начиная с которого событие будет отнесено к сигналу, за счёт максимизации метрики AMS. Этот метод менее эврестический, поскольку он использует настоящую метрику (для него по идее даже [доказаны](http://arxiv.org/abs/1412.2106) некоторые теоретические гарантии по точности, которые, правда, напрямую не применимы для подхода, который буду использовать я).\n",
    "\n",
    "Измерять качество моделей мы будем при выборе порога, поскольку он будет происходить на валидационной выборке, отличной от той, на которой училась модель. Чтобы уточнить такую оценку, можно было бы использовать кросс-валидацию и проводить процедуру несколько раз на разных разбиениях тренировочной/валидационной выборки, но это занимало бы слишком много времени для нашего анализа. К тому же конкурс уже закончился и мы не ограничены в отправке файлов, поэтому проверять результаты можно прямо на странице конкурса."
   ]
  },
  {
   "cell_type": "markdown",
   "metadata": {},
   "source": [
    "Теперь начнём, собственно, сам анализ."
   ]
  },
  {
   "cell_type": "code",
   "execution_count": 1,
   "metadata": {
    "collapsed": false
   },
   "outputs": [
    {
     "name": "stdout",
     "output_type": "stream",
     "text": [
      "Populating the interactive namespace from numpy and matplotlib\n"
     ]
    }
   ],
   "source": [
    "%pylab inline"
   ]
  },
  {
   "cell_type": "code",
   "execution_count": 2,
   "metadata": {
    "collapsed": true
   },
   "outputs": [],
   "source": [
    "import pandas as pd\n",
    "import csv"
   ]
  },
  {
   "cell_type": "markdown",
   "metadata": {},
   "source": [
    "Сначала напишем функцию, которая читает все данные и возвращает информацию в разделённых переменных (id, веса, признаки и целевую переменную для случая учебной выборки; id и признаки для тестовый выборки). "
   ]
  },
  {
   "cell_type": "code",
   "execution_count": 3,
   "metadata": {
    "collapsed": false
   },
   "outputs": [],
   "source": [
    "def read_data(filename, read_train=False):\n",
    "    data = pd.read_csv(filename)\n",
    "    if read_train:\n",
    "        data.loc[data['Label']=='s', 'Label']= 1\n",
    "        data.loc[data['Label']=='b', 'Label']= -1\n",
    "        data['Label'] = data['Label'].astype('int64')\n",
    "        y = data['Label'].as_matrix()\n",
    "        del  data['Label']    \n",
    "        \n",
    "        weights = data['Weight'].as_matrix()\n",
    "        del  data['Weight']\n",
    "        \n",
    "    ids = data['EventId'].as_matrix()\n",
    "    del  data['EventId']        \n",
    "    \n",
    "    X = data.as_matrix()\n",
    "    \n",
    "    if read_train:\n",
    "        return ids, weights, X, y\n",
    "    return ids, X"
   ]
  },
  {
   "cell_type": "markdown",
   "metadata": {},
   "source": [
    "Теперь воспользуемся нашей функцией и прочитаем тренировочную информацию."
   ]
  },
  {
   "cell_type": "code",
   "execution_count": 4,
   "metadata": {
    "collapsed": false
   },
   "outputs": [],
   "source": [
    "ids, weights, X_train, y_train = read_data(\"training.csv\", read_train=True)"
   ]
  },
  {
   "cell_type": "markdown",
   "metadata": {},
   "source": [
    "Разделим тренировочную выборку на 90% для обучения модели и 10% для оптимизации порога AMS."
   ]
  },
  {
   "cell_type": "code",
   "execution_count": 5,
   "metadata": {
    "collapsed": false
   },
   "outputs": [],
   "source": [
    "from sklearn.cross_validation import train_test_split"
   ]
  },
  {
   "cell_type": "code",
   "execution_count": 6,
   "metadata": {
    "collapsed": true
   },
   "outputs": [],
   "source": [
    "ids_train, ids_validation, weights_train, weights_validation, X_train, X_validation, y_train, y_validation = \\\n",
    "    train_test_split(ids, weights, X_train, y_train, test_size=0.1, random_state=23, stratify=y_train)"
   ]
  },
  {
   "cell_type": "markdown",
   "metadata": {},
   "source": [
    "### Random forest"
   ]
  },
  {
   "cell_type": "markdown",
   "metadata": {},
   "source": [
    "Попробуем теперь обучить пробный случайный лес без оптимизаций параметров, чтобы посмотреть, какое качество это даст."
   ]
  },
  {
   "cell_type": "code",
   "execution_count": 7,
   "metadata": {
    "collapsed": true
   },
   "outputs": [],
   "source": [
    "from sklearn.ensemble import RandomForestClassifier"
   ]
  },
  {
   "cell_type": "code",
   "execution_count": 8,
   "metadata": {
    "collapsed": false
   },
   "outputs": [
    {
     "data": {
      "text/plain": [
       "RandomForestClassifier(bootstrap=True, class_weight=None, criterion='gini',\n",
       "            max_depth=None, max_features='auto', max_leaf_nodes=None,\n",
       "            min_samples_leaf=1, min_samples_split=2,\n",
       "            min_weight_fraction_leaf=0.0, n_estimators=1000, n_jobs=-1,\n",
       "            oob_score=False, random_state=0, verbose=0, warm_start=False)"
      ]
     },
     "execution_count": 8,
     "metadata": {},
     "output_type": "execute_result"
    }
   ],
   "source": [
    "rnd_frst = RandomForestClassifier(n_estimators=1000,\n",
    "                                  n_jobs=-1,\n",
    "                                  random_state=0\n",
    "                                 )\n",
    "rnd_frst.fit(X_train, y_train)"
   ]
  },
  {
   "cell_type": "markdown",
   "metadata": {},
   "source": [
    "Теперь напишем пару функций для оптимизации порога AMS на валидационной выборке."
   ]
  },
  {
   "cell_type": "code",
   "execution_count": 9,
   "metadata": {
    "collapsed": false
   },
   "outputs": [],
   "source": [
    "def AMS(s,b):\n",
    "    assert s >= 0\n",
    "    assert b >= 0\n",
    "    bReg = 10.\n",
    "    return math.sqrt(2 * ((s + b + bReg) * \n",
    "                          math.log(1 + s / (b + bReg)) - s))"
   ]
  },
  {
   "cell_type": "code",
   "execution_count": 10,
   "metadata": {
    "collapsed": true
   },
   "outputs": [],
   "source": [
    "def find_threshold(scores_validation, w_factor, s_selector_validation, b_selector_validation, weights_validation):\n",
    "    s = np.sum(weights_validation[s_selector_validation])\n",
    "    b = np.sum(weights_validation[b_selector_validation])\n",
    "    tIIs = scores_validation.argsort()\n",
    "    amss = np.empty([len(tIIs)])\n",
    "    ams_max = 0\n",
    "    threshold = 0.0\n",
    "    for tI in range(len(tIIs)):\n",
    "        # don't forget to renormalize the weights to the same sum \n",
    "        # as in the complete training set\n",
    "        amss[tI] = AMS(max(0,s * w_factor),max(0,b * w_factor))\n",
    "        if amss[tI] > ams_max:\n",
    "            ams_max = amss[tI]\n",
    "            threshold = scores_validation[tIIs[tI]]\n",
    "            #print tI,threshold\n",
    "        if s_selector_validation[tIIs[tI]]:\n",
    "            s -= weights_validation[tIIs[tI]]\n",
    "        else:\n",
    "            b -= weights_validation[tIIs[tI]]   \n",
    "    return amss, threshold"
   ]
  },
  {
   "cell_type": "code",
   "execution_count": 11,
   "metadata": {
    "collapsed": false
   },
   "outputs": [],
   "source": [
    "probas = rnd_frst.predict_proba(X_validation)[:, 1]\n",
    "amss, forest_threshold = find_threshold(scores_validation=probas,\n",
    "                                w_factor=1.* (X_train.shape[0] + X_validation.shape[0]) / float(X_validation.shape[0]),\n",
    "                                s_selector_validation=(y_validation==1),\n",
    "                                b_selector_validation=(y_validation==-1),\n",
    "                                weights_validation=weights_validation\n",
    "                               )"
   ]
  },
  {
   "cell_type": "code",
   "execution_count": 13,
   "metadata": {
    "collapsed": false
   },
   "outputs": [
    {
     "name": "stdout",
     "output_type": "stream",
     "text": [
      " Max AMS =  3.41725188894\n",
      "Threshold =  0.793\n"
     ]
    },
    {
     "data": {
      "text/plain": [
       "<matplotlib.text.Text at 0xcd95a90>"
      ]
     },
     "execution_count": 13,
     "metadata": {},
     "output_type": "execute_result"
    },
    {
     "data": {
      "image/png": "[encoded data removed]",
      "text/plain": [
       "<matplotlib.figure.Figure at 0x165084908>"
      ]
     },
     "metadata": {},
     "output_type": "display_data"
    }
   ],
   "source": [
    "print \"Max AMS = \", amss.max()\n",
    "print \"Threshold = \", forest_threshold\n",
    "plot(np.sort(probas), amss)\n",
    "xlabel('Threshold')\n",
    "ylabel('AMS')"
   ]
  },
  {
   "cell_type": "markdown",
   "metadata": {},
   "source": [
    "Видно, что случайный лес даёт неплохой результат ~3.4 на валидационной выборке. Посмотрим, насколько это значение изменится на private leaderboard. Для этого напишем функцию для сохранения результата."
   ]
  },
  {
   "cell_type": "code",
   "execution_count": 14,
   "metadata": {
    "collapsed": true
   },
   "outputs": [],
   "source": [
    "ids_test, X_test = read_data(\"test.csv\")"
   ]
  },
  {
   "cell_type": "code",
   "execution_count": 15,
   "metadata": {
    "collapsed": false
   },
   "outputs": [],
   "source": [
    "forest_test_scores = rnd_frst.predict_proba(X_test)[:,1]"
   ]
  },
  {
   "cell_type": "code",
   "execution_count": 16,
   "metadata": {
    "collapsed": true
   },
   "outputs": [],
   "source": [
    "def write_submission(Ids, Scores, Threshold, Filename):\n",
    "    testInversePermutation = Scores.argsort()\n",
    "    \n",
    "    testPermutation = list(testInversePermutation)\n",
    "    for tI,tII in zip(range(len(testInversePermutation)),\n",
    "                      testInversePermutation):\n",
    "        testPermutation[tII] = tI\n",
    "        \n",
    "    submission = np.array([[str(Ids[tI]),str(testPermutation[tI]+1),\n",
    "                       's' if Scores[tI] >= Threshold else 'b'] \n",
    "            for tI in range(len(Ids))])\n",
    "    \n",
    "    submission = np.append([['EventId','RankOrder','Class']],\n",
    "                        submission, axis=0)\n",
    "    \n",
    "    np.savetxt(Filename, submission, fmt='%s', delimiter=',')"
   ]
  },
  {
   "cell_type": "code",
   "execution_count": 17,
   "metadata": {
    "collapsed": false
   },
   "outputs": [],
   "source": [
    "write_submission(ids_test, forest_test_scores, forest_threshold, \"random_forest_thershold.csv\")"
   ]
  },
  {
   "cell_type": "markdown",
   "metadata": {},
   "source": [
    "Данный файл показывает 3.43567 на public и 3.38861 на private. "
   ]
  },
  {
   "cell_type": "markdown",
   "metadata": {},
   "source": [
    "### Grid Random Forest"
   ]
  },
  {
   "cell_type": "markdown",
   "metadata": {},
   "source": [
    "Теперь попробуем немного улучшить результат за счёт более тонкой настройки леса. Поиск будет осуществляться по всей решётке.\n",
    "\n",
    "Так как в методе оптимизации используется оценка взвешенного AUC, то придётся писать свою функцию для поиска оптимальных параметров на решётке (функции из sklearn вроде GridSearchCV плохо работают с весами на выборке)."
   ]
  },
  {
   "cell_type": "code",
   "execution_count": 18,
   "metadata": {
    "collapsed": false
   },
   "outputs": [],
   "source": [
    "from sklearn.grid_search import ParameterGrid\n",
    "from sklearn.cross_validation import StratifiedKFold\n",
    "from sklearn.metrics import roc_auc_score"
   ]
  },
  {
   "cell_type": "code",
   "execution_count": 19,
   "metadata": {
    "collapsed": false
   },
   "outputs": [],
   "source": [
    "def random_forest_grid_search(X, y, weights, parameters, cv=5):\n",
    "    param_grid = ParameterGrid(parameters)\n",
    "    skfold = StratifiedKFold(y, n_folds=cv, shuffle=True, random_state=23)\n",
    "    max_score = 0.\n",
    "    best_params = dict()\n",
    "    for args in list(param_grid):\n",
    "        print \"Fitting \", args\n",
    "        print \"Scores: \",\n",
    "        scores = list()\n",
    "        for train_indices, test_indices in skfold:\n",
    "            estimator = RandomForestClassifier(n_estimators=100,\n",
    "                                               n_jobs=-1,\n",
    "                                               random_state=0,\n",
    "                                               **args\n",
    "                                              )\n",
    "            estimator.fit(X[train_indices], y[train_indices])\n",
    "            probas = estimator.predict_proba(X[test_indices])[:, 1]\n",
    "            scores.append(roc_auc_score(y_true=y[test_indices], \n",
    "                                        y_score=probas, \n",
    "                                        sample_weight=weights[test_indices]))\n",
    "            print scores[-1],\n",
    "        new_score = np.mean(scores)\n",
    "        print\n",
    "        print \"Mean: \", new_score, \" Std: \", np.std(scores)\n",
    "        if new_score > max_score:\n",
    "            max_score = new_score\n",
    "            best_params = args\n",
    "    best_estimator = RandomForestClassifier(n_estimators=1000,\n",
    "                                               n_jobs=-1,\n",
    "                                               random_state=0,\n",
    "                                               **best_params\n",
    "                                              )\n",
    "    best_estimator.fit(X, y)\n",
    "    return best_estimator"
   ]
  },
  {
   "cell_type": "markdown",
   "metadata": {},
   "source": [
    "Также необходимо не забыть уравнять веса так, чтобы априорная вероятность сигнала и априорная вероятность фона были одинаковыми."
   ]
  },
  {
   "cell_type": "code",
   "execution_count": 20,
   "metadata": {
    "collapsed": false
   },
   "outputs": [],
   "source": [
    "balanced_weights_train = np.copy(weights_train)\n",
    "balanced_weights_train[y_train==1] = 0.5*balanced_weights_train[y_train==1]/float(balanced_weights_train[y_train==1].sum())\n",
    "balanced_weights_train[y_train==-1] = 0.5*balanced_weights_train[y_train==-1]/float(balanced_weights_train[y_train==-1].sum())"
   ]
  },
  {
   "cell_type": "markdown",
   "metadata": {},
   "source": [
    "В качестве параметров оптимизации выберем 'max_depth' и 'min_samples_leaf'. Заметим, что при поиске на решётке обучается лес размером в 100 деревьев, а после выбора лучших параметров обучается лес в 1000 деревьев. То есть мы используем тенденцию леса не терять качество при увеличении количества деревьев."
   ]
  },
  {
   "cell_type": "code",
   "execution_count": 21,
   "metadata": {
    "collapsed": false
   },
   "outputs": [
    {
     "name": "stdout",
     "output_type": "stream",
     "text": [
      "Fitting  {'max_depth': 100.0, 'min_samples_leaf': 1.0}\n",
      "Scores:  0.923512134859 0.926682477726 0.927490464617 0.926350620137 0.927641335537\n",
      "Mean:  0.926335406575  Std:  0.0014920564702\n",
      "Fitting  {'max_depth': 100.0, 'min_samples_leaf': 3.25}\n",
      "Scores:  0.925471075448 0.928122198792 0.928828858439 0.928829255237 0.929278433039\n",
      "Mean:  0.928105964191  Std:  0.00136845251868\n",
      "Fitting  {'max_depth': 100.0, 'min_samples_leaf': 5.5}\n",
      "Scores:  0.926007268561 0.928857324522 0.929752446791 0.929481423023 0.929826286159\n",
      "Mean:  0.928784949811  Std:  0.00143012292877\n",
      "Fitting  {'max_depth': 100.0, 'min_samples_leaf': 7.75}\n",
      "Scores:  0.92636094167 0.929245615795 0.930047939126 0.929522738954 0.93035580136\n",
      "Mean:  0.929106607381  Std:  0.00142672772958\n",
      "Fitting  {'max_depth': 100.0, 'min_samples_leaf': 10.0}\n",
      "Scores:  0.926610517738 0.929412389907 0.930361941617 0.929577239271 0.930216406975\n",
      "Mean:  0.929235699102  Std:  0.00136159147014\n",
      "Fitting  {'max_depth': 1000.0, 'min_samples_leaf': 1.0}\n",
      "Scores:  0.923512134859 0.926682477726 0.927490464617 0.926350620137 0.927641335537\n",
      "Mean:  0.926335406575  Std:  0.0014920564702\n",
      "Fitting  {'max_depth': 1000.0, 'min_samples_leaf': 3.25}\n",
      "Scores:  0.925471075448 0.928122198792 0.928828858439 0.928829255237 0.929278433039\n",
      "Mean:  0.928105964191  Std:  0.00136845251868\n",
      "Fitting  {'max_depth': 1000.0, 'min_samples_leaf': 5.5}\n",
      "Scores:  0.926007268561 0.928857324522 0.929752446791 0.929481423023 0.929826286159\n",
      "Mean:  0.928784949811  Std:  0.00143012292877\n",
      "Fitting  {'max_depth': 1000.0, 'min_samples_leaf': 7.75}\n",
      "Scores:  0.92636094167 0.929245615795 0.930047939126 0.929522738954 0.93035580136\n",
      "Mean:  0.929106607381  Std:  0.00142672772958\n",
      "Fitting  {'max_depth': 1000.0, 'min_samples_leaf': 10.0}\n",
      "Scores:  0.926610517738 0.929412389907 0.930361941617 0.929577239271 0.930216406975\n",
      "Mean:  0.929235699102  Std:  0.00136159147014\n",
      "Fitting  {'max_depth': 10000.0, 'min_samples_leaf': 1.0}\n",
      "Scores:  0.923512134859 0.926682477726 0.927490464617 0.926350620137 0.927641335537\n",
      "Mean:  0.926335406575  Std:  0.0014920564702\n",
      "Fitting  {'max_depth': 10000.0, 'min_samples_leaf': 3.25}\n",
      "Scores:  0.925471075448 0.928122198792 0.928828858439 0.928829255237 0.929278433039\n",
      "Mean:  0.928105964191  Std:  0.00136845251868\n",
      "Fitting  {'max_depth': 10000.0, 'min_samples_leaf': 5.5}\n",
      "Scores:  0.926007268561 0.928857324522 0.929752446791 0.929481423023 0.929826286159\n",
      "Mean:  0.928784949811  Std:  0.00143012292877\n",
      "Fitting  {'max_depth': 10000.0, 'min_samples_leaf': 7.75}\n",
      "Scores:  0.92636094167 0.929245615795 0.930047939126 0.929522738954 0.93035580136\n",
      "Mean:  0.929106607381  Std:  0.00142672772958\n",
      "Fitting  {'max_depth': 10000.0, 'min_samples_leaf': 10.0}\n",
      "Scores:  0.926610517738 0.929412389907 0.930361941617 0.929577239271 0.930216406975\n",
      "Mean:  0.929235699102  Std:  0.00136159147014\n"
     ]
    }
   ],
   "source": [
    "parameters = {'max_depth': np.logspace(2, 4, 3),\n",
    "              'min_samples_leaf': np.linspace(1, 10, 5)\n",
    "             }\n",
    "best_random_forest = random_forest_grid_search(X_train, y_train, balanced_weights_train, parameters, cv=5)"
   ]
  },
  {
   "cell_type": "code",
   "execution_count": 22,
   "metadata": {
    "collapsed": true
   },
   "outputs": [],
   "source": [
    "probas = best_random_forest.predict_proba(X_validation)[:, 1]\n",
    "amss, best_forest_threshold = find_threshold(scores_validation=probas,\n",
    "                                w_factor=1.* (X_train.shape[0] + X_validation.shape[0]) / float(X_validation.shape[0]),\n",
    "                                s_selector_validation=(y_validation==1),\n",
    "                                b_selector_validation=(y_validation==-1),\n",
    "                                weights_validation=weights_validation\n",
    "                               )"
   ]
  },
  {
   "cell_type": "code",
   "execution_count": 23,
   "metadata": {
    "collapsed": false
   },
   "outputs": [
    {
     "name": "stdout",
     "output_type": "stream",
     "text": [
      "Max AMS =  3.51375077762\n",
      "Threshold =  0.785345568141\n"
     ]
    },
    {
     "data": {
      "text/plain": [
       "<matplotlib.text.Text at 0x18e15b400>"
      ]
     },
     "execution_count": 23,
     "metadata": {},
     "output_type": "execute_result"
    },
    {
     "data": {
      "image/png": "[encoded data removed]",
      "text/plain": [
       "<matplotlib.figure.Figure at 0xd9637b8>"
      ]
     },
     "metadata": {},
     "output_type": "display_data"
    }
   ],
   "source": [
    "print \"Max AMS = \", amss.max()\n",
    "print \"Threshold = \", best_forest_threshold\n",
    "plot(np.sort(probas), amss)\n",
    "xlabel('Threshold')\n",
    "ylabel('AMS')"
   ]
  },
  {
   "cell_type": "markdown",
   "metadata": {},
   "source": [
    "Видим, что качество улучшилось на нашей валидационной выборке. Посмотрим, что даст это решение на private."
   ]
  },
  {
   "cell_type": "code",
   "execution_count": 24,
   "metadata": {
    "collapsed": true
   },
   "outputs": [],
   "source": [
    "ids_test, X_test = read_data(\"test.csv\")"
   ]
  },
  {
   "cell_type": "code",
   "execution_count": 25,
   "metadata": {
    "collapsed": true
   },
   "outputs": [],
   "source": [
    "best_forest_test_scores = best_random_forest.predict_proba(X_test)[:,1]"
   ]
  },
  {
   "cell_type": "code",
   "execution_count": 26,
   "metadata": {
    "collapsed": true
   },
   "outputs": [],
   "source": [
    "write_submission(ids_test, best_forest_test_scores, best_forest_threshold, \"random_forest_grid_threshold.csv\")"
   ]
  },
  {
   "cell_type": "markdown",
   "metadata": {
    "collapsed": true
   },
   "source": [
    "Если загрузить этот файл на kaggle, то результат будет следующим:\n",
    "\n",
    "- public - 3.46284\n",
    "- private - 3.47356\n",
    "\n",
    "Таким образом случайный лес побил MultiBoost Benchmark, для которого\n",
    "- public - 3.34085\n",
    "- private - 3.40488"
   ]
  },
  {
   "cell_type": "markdown",
   "metadata": {},
   "source": [
    "### XGBoost"
   ]
  },
  {
   "cell_type": "markdown",
   "metadata": {},
   "source": [
    "Попробуем теперь использовать бустинг. Для этого выберем XGBoost и проделаем примерно те же самые действия, что и с лесом: для начала обучим со стандартными параметрами, а затем попробуем их несколько пооптимизировать."
   ]
  },
  {
   "cell_type": "code",
   "execution_count": 27,
   "metadata": {
    "collapsed": true
   },
   "outputs": [],
   "source": [
    "import xgboost as xgb"
   ]
  },
  {
   "cell_type": "code",
   "execution_count": 28,
   "metadata": {
    "collapsed": true
   },
   "outputs": [],
   "source": [
    "xgb_classifier = xgb.XGBClassifier(\n",
    "                     n_estimators=3000,\n",
    "                     nthread=4,\n",
    "                     seed=23).fit(X_train, y_train)"
   ]
  },
  {
   "cell_type": "code",
   "execution_count": 29,
   "metadata": {
    "collapsed": false
   },
   "outputs": [],
   "source": [
    "probas = xgb_classifier.predict_proba(X_validation)[:, 1]\n",
    "amss, xgb_threshold = find_threshold(scores_validation=probas,\n",
    "                                w_factor=1.* (X_train.shape[0] + X_validation.shape[0]) / float(X_validation.shape[0]),\n",
    "                                s_selector_validation=(y_validation==1),\n",
    "                                b_selector_validation=(y_validation==-1),\n",
    "                                weights_validation=weights_validation\n",
    "                               )"
   ]
  },
  {
   "cell_type": "code",
   "execution_count": 30,
   "metadata": {
    "collapsed": false
   },
   "outputs": [
    {
     "name": "stdout",
     "output_type": "stream",
     "text": [
      "Max AMS =  3.36613914813\n",
      "Threshold =  0.835897\n"
     ]
    },
    {
     "data": {
      "text/plain": [
       "<matplotlib.text.Text at 0x16497f5f8>"
      ]
     },
     "execution_count": 30,
     "metadata": {},
     "output_type": "execute_result"
    },
    {
     "data": {
      "image/png": "[encoded data removed]",
      "text/plain": [
       "<matplotlib.figure.Figure at 0x86d4780>"
      ]
     },
     "metadata": {},
     "output_type": "display_data"
    }
   ],
   "source": [
    "print \"Max AMS = \", amss.max()\n",
    "print \"Threshold = \", xgb_threshold\n",
    "plot(np.sort(probas), amss)\n",
    "xlabel('Threshold')\n",
    "ylabel('AMS')"
   ]
  },
  {
   "cell_type": "code",
   "execution_count": 31,
   "metadata": {
    "collapsed": false
   },
   "outputs": [],
   "source": [
    "xgb_test_scores = xgb_classifier.predict_proba(X_test)[:,1]"
   ]
  },
  {
   "cell_type": "code",
   "execution_count": 32,
   "metadata": {
    "collapsed": true
   },
   "outputs": [],
   "source": [
    "write_submission(ids_test, xgb_test_scores, xgb_threshold, \"xgb_threshold.csv\")"
   ]
  },
  {
   "cell_type": "markdown",
   "metadata": {},
   "source": [
    "Бустинг без оптимизации параметров даёт не очень хороший результат на валидационной выборке. В kaggle он показывает:\n",
    "\n",
    "- public - 3.35950\n",
    "- private - 3.46353\n",
    "\n",
    "Это также бьёт порог MultiBoost Benchmark, хотя и несильно."
   ]
  },
  {
   "cell_type": "markdown",
   "metadata": {},
   "source": [
    "### Grid XGBoost"
   ]
  },
  {
   "cell_type": "markdown",
   "metadata": {},
   "source": [
    "Теперь напишем функцию для решёточного поиска для XGBoost (можно было изначально написать более гибкую функцию, в которую классификатор подаётся, как параметр, но это привело бы к ненужным в нашем простом анализе заморочкам)."
   ]
  },
  {
   "cell_type": "code",
   "execution_count": 33,
   "metadata": {
    "collapsed": false
   },
   "outputs": [],
   "source": [
    "def xgb_grid_search(X, y, weights, parameters, cv=5):\n",
    "    param_grid = ParameterGrid(parameters)\n",
    "    skfold = StratifiedKFold(y, n_folds=cv, shuffle=True, random_state=23)\n",
    "    max_score = 0.\n",
    "    best_params = dict()\n",
    "    for args in list(param_grid):\n",
    "        print \"Fitting \", args\n",
    "        print \"Scores: \",\n",
    "        scores = list()\n",
    "        for train_indices, test_indices in skfold:\n",
    "            estimator = xgb.XGBClassifier(\n",
    "                             learning_rate =0.1,\n",
    "                             n_estimators=100,\n",
    "                             gamma=0,\n",
    "                             subsample=0.8,\n",
    "                             colsample_bytree=0.8,\n",
    "                             objective= 'binary:logistic',\n",
    "                             nthread=4,\n",
    "                             scale_pos_weight=1,\n",
    "                             seed=23,\n",
    "                             **args\n",
    "                            ).fit(X[train_indices], y[train_indices])\n",
    "            probas = estimator.predict_proba(X[test_indices])[:, 1]\n",
    "            scores.append(roc_auc_score(y_true=y[test_indices], \n",
    "                                        y_score=probas, \n",
    "                                        sample_weight=weights[test_indices]))\n",
    "            print scores[-1],\n",
    "        new_score = np.mean(scores)\n",
    "        print\n",
    "        print \"Mean: \", new_score, \" Std: \", np.std(scores)\n",
    "        if new_score > max_score:\n",
    "            max_score = new_score\n",
    "            best_params = args\n",
    "    best_estimator = xgb.XGBClassifier(\n",
    "                             learning_rate =0.1,\n",
    "                             n_estimators=100,\n",
    "                             gamma=0,\n",
    "                             subsample=0.8,\n",
    "                             colsample_bytree=0.8,\n",
    "                             objective= 'binary:logistic',\n",
    "                             nthread=4,\n",
    "                             scale_pos_weight=1,\n",
    "                             seed=23,\n",
    "                             **best_params\n",
    "                            ).fit(X, y)\n",
    "    return best_estimator"
   ]
  },
  {
   "cell_type": "markdown",
   "metadata": {},
   "source": [
    "В качестве параметров оптимизации выберем \"древесные\" параметры: 'max_depth', 'min_child_weight'. Также заметим, что теперь выбор параметров и обучении \"лучшей\" модели использует одно и то же количество деревьев (100)."
   ]
  },
  {
   "cell_type": "code",
   "execution_count": 34,
   "metadata": {
    "collapsed": false
   },
   "outputs": [
    {
     "name": "stdout",
     "output_type": "stream",
     "text": [
      "Fitting  {'max_depth': 3, 'min_child_weight': 1}\n",
      "Scores:  0.920193581216 0.923366443278 0.923699670099 0.922573913684 0.92386740254\n",
      "Mean:  0.922740202163  Std:  0.0013487970529\n",
      "Fitting  {'max_depth': 3, 'min_child_weight': 10}\n",
      "Scores:  0.920193939537 0.923662269483 0.923523891258 0.923224590673 0.923907108578\n",
      "Mean:  0.922902359906  Std:  0.00137205373386\n",
      "Fitting  {'max_depth': 6, 'min_child_weight': 1}\n",
      "Scores:  0.926286727703 0.930150466774 0.931482891299 0.92973679974 0.930763571511\n",
      "Mean:  0.929684091405  Std:  0.0017979612138\n",
      "Fitting  {'max_depth': 6, 'min_child_weight': 10}\n",
      "Scores:  0.926643113204 0.930069035712 0.93138900068 0.929788911842 0.930522756437\n",
      "Mean:  0.929682563575  Std:  0.0016134919189\n",
      "Fitting  {'max_depth': 9, 'min_child_weight': 1}\n",
      "Scores:  0.92715080738 0.930885906747 0.931792880261 0.930432738034 0.9310803533\n",
      "Mean:  0.930268537144  Std:  0.0016193216761\n",
      "Fitting  {'max_depth': 9, 'min_child_weight': 10}\n",
      "Scores:  0.927248549505 0.930917428679 0.932398834687 0.930757374754 0.931383580594\n",
      "Mean:  0.930541153644  Std:  0.00174299962765\n",
      "Fitting  {'max_depth': 12, 'min_child_weight': 1}\n",
      "Scores:  0.926403441825 0.929212883186 0.930455954806 0.92902259942 0.92926962703\n",
      "Mean:  0.928872901253  Std:  0.00133414219761\n",
      "Fitting  {'max_depth': 12, 'min_child_weight': 10}\n",
      "Scores:  0.927062981473 0.930255300758 0.931155778126 0.930281324335 0.930796624036\n",
      "Mean:  0.929910401746  Std:  0.00146292128174\n",
      "Fitting  {'max_depth': 15, 'min_child_weight': 1}\n",
      "Scores:  0.924130436449 0.927648690587 0.928376603012 0.928004004218 0.928368218061\n",
      "Mean:  0.927305590465  Std:  0.00161017687066\n",
      "Fitting  {'max_depth': 15, 'min_child_weight': 10}\n",
      "Scores:  0.925976093473 0.92873952583 0.929727982066 0.929206267096 0.929235097093\n",
      "Mean:  0.928576993112  Std:  0.00133753190483\n"
     ]
    }
   ],
   "source": [
    "parameters = {'max_depth': np.linspace(3, 15, 5).astype('int64'),\n",
    "              'min_child_weight': np.linspace(1, 10, 2).astype('int64')\n",
    "             }\n",
    "best_xgb = xgb_grid_search(X_train, y_train, balanced_weights_train, parameters, cv=5)"
   ]
  },
  {
   "cell_type": "code",
   "execution_count": 35,
   "metadata": {
    "collapsed": true
   },
   "outputs": [],
   "source": [
    "probas = best_xgb.predict_proba(X_validation)[:, 1]\n",
    "amss, best_xgb_threshold = find_threshold(scores_validation=probas,\n",
    "                                w_factor=1.* (X_train.shape[0] + X_validation.shape[0]) / float(X_validation.shape[0]),\n",
    "                                s_selector_validation=(y_validation==1),\n",
    "                                b_selector_validation=(y_validation==-1),\n",
    "                                weights_validation=weights_validation\n",
    "                               )"
   ]
  },
  {
   "cell_type": "code",
   "execution_count": 36,
   "metadata": {
    "collapsed": false
   },
   "outputs": [
    {
     "name": "stdout",
     "output_type": "stream",
     "text": [
      "Max AMS =  3.37842986047\n",
      "Threshold =  0.80511\n"
     ]
    },
    {
     "data": {
      "text/plain": [
       "<matplotlib.text.Text at 0x1538289e8>"
      ]
     },
     "execution_count": 36,
     "metadata": {},
     "output_type": "execute_result"
    },
    {
     "data": {
      "image/png": "[encoded data removed]",
      "text/plain": [
       "<matplotlib.figure.Figure at 0x16497f048>"
      ]
     },
     "metadata": {},
     "output_type": "display_data"
    }
   ],
   "source": [
    "print \"Max AMS = \", amss.max()\n",
    "print \"Threshold = \", best_xgb_threshold\n",
    "plot(np.sort(probas), amss)\n",
    "xlabel('Threshold')\n",
    "ylabel('AMS')"
   ]
  },
  {
   "cell_type": "markdown",
   "metadata": {},
   "source": [
    "На валидационной выборке лучший на решётке классификатор показывает не такой уж хороший результат, проигрывая даже обычному случайному лесу без оптимизации параметров. Всё же посмотрим, каков будет результат на kaggle."
   ]
  },
  {
   "cell_type": "code",
   "execution_count": 37,
   "metadata": {
    "collapsed": true
   },
   "outputs": [],
   "source": [
    "best_xgb_test_scores = best_xgb.predict_proba(X_test)[:,1]"
   ]
  },
  {
   "cell_type": "code",
   "execution_count": 38,
   "metadata": {
    "collapsed": true
   },
   "outputs": [],
   "source": [
    "write_submission(ids_test, best_xgb_test_scores, best_xgb_threshold, \"xgb_grid_threshold.csv\")"
   ]
  },
  {
   "cell_type": "markdown",
   "metadata": {
    "collapsed": true
   },
   "source": [
    "После загрузки получаем следующий результат:\n",
    "\n",
    "- public - 3.47262\n",
    "- private - 3.53444\n",
    "\n",
    "Удивительным образом, это много лучше, чем результат на валидационной выборке и лучше, чем все остальные результаты, полученные до сих пор."
   ]
  },
  {
   "cell_type": "markdown",
   "metadata": {},
   "source": [
    "Наконец, попробуем усреднить результаты лучшего леса и лучшего бустинга и посмотреть, что из этого выйдет."
   ]
  },
  {
   "cell_type": "code",
   "execution_count": 39,
   "metadata": {
    "collapsed": true
   },
   "outputs": [],
   "source": [
    "write_submission(ids_test, \n",
    "                 (best_xgb_test_scores + best_forest_test_scores)/2., \n",
    "                 (best_forest_threshold + best_xgb_threshold)/2., \n",
    "                 \"xgb_plus_forest_threshold.csv\")"
   ]
  },
  {
   "cell_type": "markdown",
   "metadata": {},
   "source": [
    "Несмотря на то, что усреднение производилось самым прямым способом, без всякой оптимизации порога, решение дало улучшение качества:\n",
    "\n",
    "- public - 3.47804\n",
    "- private - 3.58769"
   ]
  },
  {
   "cell_type": "markdown",
   "metadata": {},
   "source": [
    "## Итоги"
   ]
  },
  {
   "cell_type": "markdown",
   "metadata": {
    "collapsed": true
   },
   "source": [
    "В итоге мы получаем следующие результаты:\n",
    "\n",
    "|              | MultiBoost Benchmark | Random forest | Random forest grid | XGBoost | XGBoost grid | Two best average |\n",
    "|--------------|----------------------|---------------|--------------------|---------|--------------|------------------|\n",
    "|**Validation**|                      | 3.41725       | **3.51375**        | 3.36614 | 3.37843      |                  |\n",
    "| **Public**   | 3.34085              | 3.43567       | 3.46284            | 3.35950 | 3.47262      | **3.47804**      |\n",
    "| **Private**  | 3.40488              | 3.38861       | 3.47356            | 3.46353 | 3.53444      | **3.58769**      |\n",
    "\n",
    "То же самое удобно изобразить на графике."
   ]
  },
  {
   "cell_type": "code",
   "execution_count": 57,
   "metadata": {
    "collapsed": false
   },
   "outputs": [
    {
     "data": {
      "text/plain": [
       "([<matplotlib.axis.XTick at 0x10f70240>,\n",
       "  <matplotlib.axis.XTick at 0x15ae32f60>,\n",
       "  <matplotlib.axis.XTick at 0xec36a20>,\n",
       "  <matplotlib.axis.XTick at 0xec36c50>,\n",
       "  <matplotlib.axis.XTick at 0xec36128>,\n",
       "  <matplotlib.axis.XTick at 0xec94860>],\n",
       " <a list of 6 Text xticklabel objects>)"
      ]
     },
     "execution_count": 57,
     "metadata": {},
     "output_type": "execute_result"
    },
    {
     "data": {
      "image/png": "[encoded data removed]",
      "text/plain": [
       "<matplotlib.figure.Figure at 0xdab7400>"
      ]
     },
     "metadata": {},
     "output_type": "display_data"
    }
   ],
   "source": [
    "validation_scores = np.array([3.41725, 3.51375, 3.36614, 3.37843])\n",
    "public_scores = np.array([3.34085, 3.43567, 3.46284, 3.35950, 3.47262, 3.47804])\n",
    "private_scores = np.array([3.40488, 3.38861, 3.47356, 3.46353, 3.53444, 3.58769])\n",
    "figure(figsize=(10, 5))\n",
    "plot(range(1, 5), validation_scores, 'ro', range(6), public_scores, 'go', range(6), private_scores, 'bo')\n",
    "xlim([-0.5, 5.5])\n",
    "legend([\"Validation\", \"Public\", \"Private\"], loc='upper left')\n",
    "\n",
    "labels = [\"MultiBoost Benchmark\", \"Random forest\", \"Random forest grid\", \"XGBoost\", \"XGBoost grid\", \"Two best average\"]\n",
    "xticks(range(6), labels, rotation=45)"
   ]
  },
  {
   "cell_type": "markdown",
   "metadata": {},
   "source": [
    "Этих оценок достаточно для простого анализа. Всё же остаётся ещё много методов, которые могут улучшить результат и которые до сих пор не были упомянуты. Я перечислю три метода, которые на мой взгляд могут дать наибольший прирост в качестве:\n",
    "- более широкий поиск параметров моделей\n",
    "- работа с признаками (отбор признаков, введение новых признаков)\n",
    "- использование другой метрики на первом этапе оптимизации AMS"
   ]
  },
  {
   "cell_type": "code",
   "execution_count": null,
   "metadata": {
    "collapsed": true
   },
   "outputs": [],
   "source": []
  }
 ],
 "metadata": {
  "kernelspec": {
   "display_name": "Python 2",
   "language": "python",
   "name": "python2"
  },
  "language_info": {
   "codemirror_mode": {
    "name": "ipython",
    "version": 2
   },
   "file_extension": ".py",
   "mimetype": "text/x-python",
   "name": "python",
   "nbconvert_exporter": "python",
   "pygments_lexer": "ipython2",
   "version": "2.7.11"
  }
 },
 "nbformat": 4,
 "nbformat_minor": 0
}
